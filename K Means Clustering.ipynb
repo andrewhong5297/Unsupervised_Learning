{
 "cells": [
  {
   "cell_type": "markdown",
   "metadata": {},
   "source": [
    "# K-Means Clustering in Python\n",
    "***\n",
    "K-means clustering is a clustering algorithm that aims to partition n observations into k clusters\n",
    "\n",
    "There are three steps:\n",
    "1. Initialisation - K initial \"means\" (centroids) are generated at random\n",
    "2. Assignment - K clusters are created by associating each observation with the nearest centroid\n",
    "3. Update - the hcentroid of the clusters becomes the new mean\n",
    "\n",
    "Assignment and Update are repeated iteratively until covnergence."
   ]
  },
  {
   "cell_type": "code",
   "execution_count": 196,
   "metadata": {},
   "outputs": [],
   "source": [
    "import pandas as pd\n",
    "import numpy as np\n",
    "import matplotlib.pyplot as plt\n",
    "from functools import partial\n",
    "%matplotlib inline"
   ]
  },
  {
   "cell_type": "code",
   "execution_count": 197,
   "metadata": {},
   "outputs": [],
   "source": [
    "data = pd.DataFrame({\n",
    "    'x': [12, 20, 28, 18, 29, 33, 24, 45, 45, 52, 51, 52, 55, 53, 55, 61, 64, 69, 72],\n",
    "    'y': [39, 36, 30, 52, 54, 46, 55, 59, 63, 70, 66, 63, 58, 23, 14, 8, 19, 7, 24]\n",
    "})"
   ]
  },
  {
   "cell_type": "markdown",
   "metadata": {},
   "source": [
    "## Initialization\n",
    "***\n",
    "\n",
    "Set the random seed so it reproducible, and randomly generate the initial centroids for each of the clusters"
   ]
  },
  {
   "cell_type": "code",
   "execution_count": 198,
   "metadata": {},
   "outputs": [
    {
     "data": {
      "text/html": [
       "<div>\n",
       "<style scoped>\n",
       "    .dataframe tbody tr th:only-of-type {\n",
       "        vertical-align: middle;\n",
       "    }\n",
       "\n",
       "    .dataframe tbody tr th {\n",
       "        vertical-align: top;\n",
       "    }\n",
       "\n",
       "    .dataframe thead th {\n",
       "        text-align: right;\n",
       "    }\n",
       "</style>\n",
       "<table border=\"1\" class=\"dataframe\">\n",
       "  <thead>\n",
       "    <tr style=\"text-align: right;\">\n",
       "      <th></th>\n",
       "      <th>color</th>\n",
       "      <th>x</th>\n",
       "      <th>y</th>\n",
       "    </tr>\n",
       "  </thead>\n",
       "  <tbody>\n",
       "    <tr>\n",
       "      <th>0</th>\n",
       "      <td>r</td>\n",
       "      <td>37</td>\n",
       "      <td>9</td>\n",
       "    </tr>\n",
       "    <tr>\n",
       "      <th>1</th>\n",
       "      <td>g</td>\n",
       "      <td>12</td>\n",
       "      <td>75</td>\n",
       "    </tr>\n",
       "    <tr>\n",
       "      <th>2</th>\n",
       "      <td>b</td>\n",
       "      <td>72</td>\n",
       "      <td>5</td>\n",
       "    </tr>\n",
       "  </tbody>\n",
       "</table>\n",
       "</div>"
      ],
      "text/plain": [
       "  color   x   y\n",
       "0     r  37   9\n",
       "1     g  12  75\n",
       "2     b  72   5"
      ]
     },
     "execution_count": 198,
     "metadata": {},
     "output_type": "execute_result"
    }
   ],
   "source": [
    "np.random.seed(1)\n",
    "k = 3\n",
    "\n",
    "centroid_colors = {0:'r',1:'g',2:'b'}\n",
    "\n",
    "centroids = pd.DataFrame({ 'x' : [np.random.randint(0,80) for i in range(k)] , \n",
    "                           'y' : [np.random.randint(0,80) for i in range(k)],\n",
    "                           'color': ['r','g','b'] })\n",
    "centroids"
   ]
  },
  {
   "cell_type": "markdown",
   "metadata": {},
   "source": [
    "Plot the initial data and the initial locations for the centroids"
   ]
  },
  {
   "cell_type": "code",
   "execution_count": 199,
   "metadata": {},
   "outputs": [
    {
     "data": {
      "image/png": "[encoded data removed]",
      "text/plain": [
       "<Figure size 720x720 with 1 Axes>"
      ]
     },
     "metadata": {
      "needs_background": "light"
     },
     "output_type": "display_data"
    }
   ],
   "source": [
    "fig, ax1 = plt.subplots(1, figsize=(10,10))\n",
    "\n",
    "data.plot(kind='scatter',x='x',y='y',color='k',ax=ax1)\n",
    "centroids.plot(kind='scatter',x='x',y='y',color=centroids['color'],ax=ax1)\n",
    "    \n",
    "plt.xlim(0,80)\n",
    "plt.ylim(0,80)\n",
    "plt.show()"
   ]
  },
  {
   "cell_type": "markdown",
   "metadata": {},
   "source": [
    "## Assignment Stage"
   ]
  },
  {
   "cell_type": "code",
   "execution_count": 200,
   "metadata": {
    "code_folding": [
     0
    ]
   },
   "outputs": [],
   "source": [
    "def assignment( data , centroids ):\n",
    "    \"\"\"\n",
    "    Inputs:\n",
    "    data - DataFrame containing data\n",
    "    centroids - dictionary of lists containing centroids \n",
    "    \n",
    "    Returns:\n",
    "    updated_data - DataFrame with updated data \n",
    "    \"\"\"      \n",
    "    norm_of_rows = partial( np.linalg.norm , axis=1 , ord=2 )\n",
    "    \n",
    "    for i in range(k):\n",
    "        # each centroid vector is broadcasted to subtract from each row of the data\n",
    "        # need axis = 1 so the norm of each row is computed and not the norm of entire list of vectors\n",
    "        data['distance_from_centroid_{}'.format(i)] = \\\n",
    "        norm_of_rows( data[['x','y']] - centroids[['x','y']].iloc[i] , axis=1 )\n",
    "        \n",
    "    distance_col_names = ['distance_from_centroid_{}'.format(i) for i in range(k)]\n",
    "    # argmin over the columns\n",
    "    data['closest'] = data.loc[: , distance_col_names].idxmin( axis=1 )\n",
    "    # loc accessor returned string, so remove the text part of column\n",
    "    data['closest'] = data['closest'].map( lambda x: int( x.lstrip('distance_from_centroid_') ) )\n",
    "    # now add another column containing colors for the datapoints\n",
    "    data['color'] = data['closest'].map( lambda x: centroid_colors[x] )\n",
    "    \n",
    "    return data"
   ]
  },
  {
   "cell_type": "markdown",
   "metadata": {},
   "source": [
    "Regenerate the colors for this stage of centroids"
   ]
  },
  {
   "cell_type": "code",
   "execution_count": 201,
   "metadata": {},
   "outputs": [],
   "source": [
    "data = assignment(data , centroids)"
   ]
  },
  {
   "cell_type": "code",
   "execution_count": 202,
   "metadata": {},
   "outputs": [
    {
     "data": {
      "image/png": "[encoded data removed]",
      "text/plain": [
       "<Figure size 720x720 with 1 Axes>"
      ]
     },
     "metadata": {
      "needs_background": "light"
     },
     "output_type": "display_data"
    }
   ],
   "source": [
    "fig, ax2 = plt.subplots(1, figsize=(10,10))\n",
    "data.plot(kind='scatter',x='x',y='y',color=data['color'],alpha=0.5,edgecolor='k',ax=ax2)\n",
    "centroids.plot(kind='scatter',x='x',y='y',color=centroids['color'],ax=ax2)\n",
    "\n",
    "plt.xlim(0,80)\n",
    "plt.ylim(0,80)\n",
    "plt.show()"
   ]
  },
  {
   "cell_type": "markdown",
   "metadata": {},
   "source": [
    "## Update Stage"
   ]
  },
  {
   "cell_type": "code",
   "execution_count": 203,
   "metadata": {},
   "outputs": [
    {
     "name": "stdout",
     "output_type": "stream",
     "text": [
      "                 x          y color\n",
      "closest                            \n",
      "0        39.000000  25.750000     r\n",
      "1        37.818182  56.818182     g\n",
      "2        66.500000  14.500000     b\n"
     ]
    }
   ],
   "source": [
    "import copy\n",
    "\n",
    "old_centroids = copy.deepcopy( centroids )\n",
    "\n",
    "def update(k):\n",
    "    centroids = data.groupby('closest').mean()[['x','y']]\n",
    "    centroids['color'] = old_centroids['color']\n",
    "    return centroids\n",
    "\n",
    "centroids = update(centroids)\n",
    "print(centroids)"
   ]
  },
  {
   "cell_type": "code",
   "execution_count": 204,
   "metadata": {},
   "outputs": [
    {
     "data": {
      "image/png": "[encoded data removed]",
      "text/plain": [
       "<Figure size 720x720 with 1 Axes>"
      ]
     },
     "metadata": {
      "needs_background": "light"
     },
     "output_type": "display_data"
    }
   ],
   "source": [
    "fig, ax3 = plt.subplots(1, figsize=(10,10))\n",
    "\n",
    "data.plot( kind='scatter' ,ax=ax3, x='x',y='y',color = data['color'] , alpha=0.5 , edgecolor='k')\n",
    "\n",
    "centroids.plot( kind='scatter' ,ax=ax3, x='x',y='y',color=old_centroids['color'] )\n",
    "\n",
    "plt.xlim(0,80)\n",
    "plt.ylim(0,80)\n",
    "\n",
    "centroid_difference = (centroids[['x','y']] - old_centroids[['x','y']]) * 0.5\n",
    "\n",
    "for i in range(k):\n",
    "    ax3.arrow( old_centroids['x'].iloc[i] , old_centroids['y'].iloc[i] , \n",
    "             centroid_difference['x'].iloc[i] , centroid_difference['y'].iloc[i],\n",
    "             head_width=2 , head_length=3 , fc=old_centroids['color'].iloc[i], \n",
    "              ec=old_centroids['color'].iloc[i])\n",
    "    \n",
    "plt.show()"
   ]
  },
  {
   "cell_type": "markdown",
   "metadata": {},
   "source": [
    "## Repeat Assignment"
   ]
  },
  {
   "cell_type": "code",
   "execution_count": 205,
   "metadata": {},
   "outputs": [],
   "source": [
    "data = assignment( data , centroids )"
   ]
  },
  {
   "cell_type": "code",
   "execution_count": 206,
   "metadata": {},
   "outputs": [
    {
     "data": {
      "image/png": "[encoded data removed]",
      "text/plain": [
       "<Figure size 720x720 with 1 Axes>"
      ]
     },
     "metadata": {
      "needs_background": "light"
     },
     "output_type": "display_data"
    }
   ],
   "source": [
    "fig, ax4 = plt.subplots(1, figsize=(10,10))\n",
    "data.plot(kind='scatter',ax=ax4,x='x',y='y',color=data['color'],alpha=0.5,edgecolor='k')\n",
    "centroids.plot( kind='scatter', ax=ax4,x='x', y='y', color=centroids['color'])\n",
    "plt.show()"
   ]
  },
  {
   "cell_type": "markdown",
   "metadata": {},
   "source": [
    "# K-Means Clustering with Scikit-Learn"
   ]
  },
  {
   "cell_type": "code",
   "execution_count": 207,
   "metadata": {},
   "outputs": [],
   "source": [
    "from sklearn.cluster import KMeans"
   ]
  },
  {
   "cell_type": "markdown",
   "metadata": {},
   "source": [
    "Fit the KMeans object to our data "
   ]
  },
  {
   "cell_type": "code",
   "execution_count": 208,
   "metadata": {},
   "outputs": [
    {
     "data": {
      "text/plain": [
       "KMeans(algorithm='auto', copy_x=True, init='k-means++', max_iter=300,\n",
       "    n_clusters=3, n_init=10, n_jobs=None, precompute_distances='auto',\n",
       "    random_state=None, tol=0.0001, verbose=0)"
      ]
     },
     "execution_count": 208,
     "metadata": {},
     "output_type": "execute_result"
    }
   ],
   "source": [
    "kmeans = KMeans( n_clusters=3 )\n",
    "kmeans.fit( data[['x','y']].values )"
   ]
  },
  {
   "cell_type": "markdown",
   "metadata": {},
   "source": [
    "Generate labels by using predict method on our data and retrieve the centroids"
   ]
  },
  {
   "cell_type": "code",
   "execution_count": 223,
   "metadata": {},
   "outputs": [
    {
     "name": "stdout",
     "output_type": "stream",
     "text": [
      "[[62.33333333 15.83333333]\n",
      " [23.42857143 44.57142857]\n",
      " [50.         63.16666667]]\n"
     ]
    }
   ],
   "source": [
    "labels = kmeans.predict( data[['x','y']].values )\n",
    "centroids = kmeans.cluster_centers_\n",
    "print(centroids)"
   ]
  },
  {
   "cell_type": "code",
   "execution_count": 212,
   "metadata": {},
   "outputs": [
    {
     "name": "stdout",
     "output_type": "stream",
     "text": [
      "0    r\n",
      "1    g\n",
      "2    b\n",
      "Name: color, dtype: object\n"
     ]
    }
   ],
   "source": [
    "print(old_centroids['color'])"
   ]
  },
  {
   "cell_type": "markdown",
   "metadata": {},
   "source": [
    "Now map the predicted labels into colors and plot the data points, with their predicted classes and corresponding centroids"
   ]
  },
  {
   "cell_type": "code",
   "execution_count": 222,
   "metadata": {},
   "outputs": [
    {
     "data": {
      "image/png": "[encoded data removed]",
      "text/plain": [
       "<Figure size 720x720 with 1 Axes>"
      ]
     },
     "metadata": {
      "needs_background": "light"
     },
     "output_type": "display_data"
    }
   ],
   "source": [
    "fig, ax5 = plt.subplots(1, figsize=(10,10))\n",
    "colors = [centroid_colors[label] for label in labels]\n",
    "data.plot( kind='scatter', ax=ax5,x='x',y='y',color=colors, alpha=0.5, edgecolor='k')\n",
    "colors=['r','g','b']\n",
    "for i in range(k):\n",
    "    ax5.scatter( x=centroids[i][0] , y=centroids[i][1] , color=colors[i])\n",
    "plt.ylim(0,80)\n",
    "plt.xlim(0,80)\n",
    "plt.show()"
   ]
  },
  {
   "cell_type": "markdown",
   "metadata": {},
   "source": [
    "# Summary\n",
    "***\n",
    "K means clustering is very sensitive to scale due to its reliance on Euclidean distance, so be sure to normalize data if there are likely to be scaling problems. \n",
    "\n",
    "If there are symmetries in your data, some labels may be mis-labelled\n",
    "\n",
    "It is recommended to do the same k-means with different initial centroids and take the most common predicted label."
   ]
  }
 ],
 "metadata": {
  "kernelspec": {
   "display_name": "Python 3",
   "language": "python",
   "name": "python3"
  },
  "language_info": {
   "codemirror_mode": {
    "name": "ipython",
    "version": 3
   },
   "file_extension": ".py",
   "mimetype": "text/x-python",
   "name": "python",
   "nbconvert_exporter": "python",
   "pygments_lexer": "ipython3",
   "version": "3.5.6"
  },
  "toc": {
   "base_numbering": 1,
   "nav_menu": {},
   "number_sections": true,
   "sideBar": true,
   "skip_h1_title": false,
   "title_cell": "Table of Contents",
   "title_sidebar": "Contents",
   "toc_cell": false,
   "toc_position": {
    "height": "calc(100% - 180px)",
    "left": "10px",
    "top": "150px",
    "width": "236.297px"
   },
   "toc_section_display": true,
   "toc_window_display": true
  },
  "varInspector": {
   "cols": {
    "lenName": 16,
    "lenType": 16,
    "lenVar": 40
   },
   "kernels_config": {
    "python": {
     "delete_cmd_postfix": "",
     "delete_cmd_prefix": "del ",
     "library": "var_list.py",
     "varRefreshCmd": "print(var_dic_list())"
    },
    "r": {
     "delete_cmd_postfix": ") ",
     "delete_cmd_prefix": "rm(",
     "library": "var_list.r",
     "varRefreshCmd": "cat(var_dic_list()) "
    }
   },
   "types_to_exclude": [
    "module",
    "function",
    "builtin_function_or_method",
    "instance",
    "_Feature"
   ],
   "window_display": false
  }
 },
 "nbformat": 4,
 "nbformat_minor": 2
}
