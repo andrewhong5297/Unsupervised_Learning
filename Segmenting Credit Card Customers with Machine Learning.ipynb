{
 "cells": [
  {
   "cell_type": "markdown",
   "metadata": {},
   "source": [
    "We will be using a dataset containing a number of behavioral attributes for credit card customers that I obtained from Kaggle [here](https://www.kaggle.com/arjunbhasin2013/ccdata).\n",
    "\n",
    "We will be using scikit-learn in order to apply clustering to identify natural segments of the data set.\n",
    "\n",
    "The dataset consists of 18 features about the behavior of credit card customers:\n",
    "* CUST_ID : Identification of Credit Card holder (Categorical)\n",
    "* BALANCE : Balance amount left in their account to make purchases (\n",
    "* BALANCE_FREQUENCY : How frequently the Balance is updated, score between 0 and 1 (1 = frequently updated, 0 = not frequently updated)\n",
    "* PURCHASES : Amount of purchases made from account\n",
    "* ONEOFF_PURCHASES : Maximum purchase amount done in one-go\n",
    "* INSTALLMENTS_PURCHASES : Amount of purchase done in installment\n",
    "* CASH_ADVANCE : Cash in advance given by the user\n",
    "* PURCHASES_FREQUENCY : How frequently the Purchases are being made, score between 0 and 1 (1 = frequently purchased, 0 = not frequently purchased)\n",
    "* ONEOFFPURCHASESFREQUENCY : How frequently Purchases are happening in one-go (1 = frequently purchased, 0 = not frequently purchased)\n",
    "* PURCHASESINSTALLMENTSFREQUENCY : How frequently purchases in installments are being done (1 = frequently done, 0 = not frequently done)\n",
    "* CASHADVANCEFREQUENCY : How frequently the cash in advance being paid\n",
    "* CASHADVANCETRX : Number of Transactions made with \"Cash in Advanced\"\n",
    "* PURCHASES_TRX : Numbe of purchase transactions made\n",
    "* CREDIT_LIMIT : Limit of Credit Card for user\n",
    "* PAYMENTS : Amount of Payment done by user\n",
    "* MINIMUM_PAYMENTS : Minimum amount of payments made by user\n",
    "* PRCFULLPAYMENT : Percent of full payment paid by user\n",
    "* TENURE : Tenure of credit card service for user"
   ]
  },
  {
   "cell_type": "markdown",
   "metadata": {},
   "source": [
    "Standard imports"
   ]
  },
  {
   "cell_type": "code",
   "execution_count": 18,
   "metadata": {},
   "outputs": [],
   "source": [
    "import pandas as pd\n",
    "import numpy as np\n",
    "import matplotlib.pyplot as plt\n",
    "import seaborn as sns"
   ]
  },
  {
   "cell_type": "markdown",
   "metadata": {},
   "source": [
    "# Data Cleaning\n",
    "***\n",
    "First, load in the data:"
   ]
  },
  {
   "cell_type": "code",
   "execution_count": 19,
   "metadata": {},
   "outputs": [],
   "source": [
    "data = pd.read_csv(\"data/credit_card_data.csv\")"
   ]
  },
  {
   "cell_type": "markdown",
   "metadata": {},
   "source": [
    "We look at the data types to see what we're working with, and if we need to transform anything"
   ]
  },
  {
   "cell_type": "code",
   "execution_count": 20,
   "metadata": {},
   "outputs": [
    {
     "data": {
      "text/plain": [
       "CUST_ID                              object\n",
       "BALANCE                             float64\n",
       "BALANCE_FREQUENCY                   float64\n",
       "PURCHASES                           float64\n",
       "ONEOFF_PURCHASES                    float64\n",
       "INSTALLMENTS_PURCHASES              float64\n",
       "CASH_ADVANCE                        float64\n",
       "PURCHASES_FREQUENCY                 float64\n",
       "ONEOFF_PURCHASES_FREQUENCY          float64\n",
       "PURCHASES_INSTALLMENTS_FREQUENCY    float64\n",
       "CASH_ADVANCE_FREQUENCY              float64\n",
       "CASH_ADVANCE_TRX                      int64\n",
       "PURCHASES_TRX                         int64\n",
       "CREDIT_LIMIT                        float64\n",
       "PAYMENTS                            float64\n",
       "MINIMUM_PAYMENTS                    float64\n",
       "PRC_FULL_PAYMENT                    float64\n",
       "TENURE                                int64\n",
       "dtype: object"
      ]
     },
     "execution_count": 20,
     "metadata": {},
     "output_type": "execute_result"
    }
   ],
   "source": [
    "data.dtypes"
   ]
  },
  {
   "cell_type": "markdown",
   "metadata": {},
   "source": [
    "Then we can drop the `CUST_ID` column because it won't help at all for training, only serves as a primary key, and we can just use our default `RangeIndex` instead"
   ]
  },
  {
   "cell_type": "code",
   "execution_count": 21,
   "metadata": {},
   "outputs": [],
   "source": [
    "cols_to_drop = ['CUST_ID']\n",
    "data_no_cust_id = data.drop(cols_to_drop,axis=1)"
   ]
  },
  {
   "cell_type": "markdown",
   "metadata": {},
   "source": [
    "We can check to see which features have any missing values:"
   ]
  },
  {
   "cell_type": "code",
   "execution_count": 22,
   "metadata": {},
   "outputs": [
    {
     "data": {
      "text/plain": [
       "Index(['CREDIT_LIMIT', 'MINIMUM_PAYMENTS'], dtype='object')"
      ]
     },
     "execution_count": 22,
     "metadata": {},
     "output_type": "execute_result"
    }
   ],
   "source": [
    "data_no_cust_id.columns[data_no_cust_id.isna().sum()>0]"
   ]
  },
  {
   "cell_type": "markdown",
   "metadata": {},
   "source": [
    "Now we can check to see how bad it is, by looking at what fraction of entries in each of these columns is missing values."
   ]
  },
  {
   "cell_type": "code",
   "execution_count": 23,
   "metadata": {},
   "outputs": [
    {
     "data": {
      "text/plain": [
       "CREDIT_LIMIT        0.000112\n",
       "MINIMUM_PAYMENTS    0.034972\n",
       "dtype: float64"
      ]
     },
     "execution_count": 23,
     "metadata": {},
     "output_type": "execute_result"
    }
   ],
   "source": [
    "data_no_cust_id.loc[:,data_no_cust_id.isna().sum()>0].isna().sum()/data_no_cust_id.shape[0]"
   ]
  },
  {
   "cell_type": "markdown",
   "metadata": {},
   "source": [
    "Because both of the columns have less than 5% missing values, it should be reasonable to impute the missing values with the mean.\n",
    "\n",
    "Because scikit-learn only likes to work with numpy arrays, we re cast the transformed data into a DataFrame with the same columns."
   ]
  },
  {
   "cell_type": "code",
   "execution_count": 29,
   "metadata": {},
   "outputs": [],
   "source": [
    "from sklearn.impute import SimpleImputer\n",
    "imp = SimpleImputer()\n",
    "data_no_cust_id_imputed = pd.DataFrame(imp.fit_transform(data_no_cust_id),columns=data_no_cust_id.columns)"
   ]
  },
  {
   "cell_type": "markdown",
   "metadata": {},
   "source": [
    "Now we should see that there are no missing values:"
   ]
  },
  {
   "cell_type": "code",
   "execution_count": 32,
   "metadata": {},
   "outputs": [
    {
     "data": {
      "text/plain": [
       "CREDIT_LIMIT        0\n",
       "MINIMUM_PAYMENTS    0\n",
       "dtype: int64"
      ]
     },
     "execution_count": 32,
     "metadata": {},
     "output_type": "execute_result"
    }
   ],
   "source": [
    "data_no_cust_id_imputed[['CREDIT_LIMIT','MINIMUM_PAYMENTS']].isna().sum()"
   ]
  },
  {
   "cell_type": "markdown",
   "metadata": {},
   "source": [
    "# Feature Scaling\n",
    "***\n",
    "Now we need to scale the features because our clustering `KMeans` is scale-dependent, and sensitive to any differences in scale between the features of the dataset.\n",
    "\n",
    "We will transform all of the features into the range [0,1] using the `MinMaxScaler`."
   ]
  },
  {
   "cell_type": "code",
   "execution_count": 34,
   "metadata": {},
   "outputs": [],
   "source": [
    "from sklearn.preprocessing import MinMaxScaler\n",
    "scaler = MinMaxScaler()\n",
    "scaled_data = pd.DataFrame(scaler.fit_transform(data_no_cust_id_imputed),columns=data_no_cust_id_imputed.columns)"
   ]
  },
  {
   "cell_type": "markdown",
   "metadata": {},
   "source": [
    "Let's check the scale just to be sure.\n",
    "\n",
    "Before scaling:"
   ]
  },
  {
   "cell_type": "code",
   "execution_count": 36,
   "metadata": {},
   "outputs": [
    {
     "data": {
      "text/html": [
       "<div>\n",
       "<style scoped>\n",
       "    .dataframe tbody tr th:only-of-type {\n",
       "        vertical-align: middle;\n",
       "    }\n",
       "\n",
       "    .dataframe tbody tr th {\n",
       "        vertical-align: top;\n",
       "    }\n",
       "\n",
       "    .dataframe thead th {\n",
       "        text-align: right;\n",
       "    }\n",
       "</style>\n",
       "<table border=\"1\" class=\"dataframe\">\n",
       "  <thead>\n",
       "    <tr style=\"text-align: right;\">\n",
       "      <th></th>\n",
       "      <th>BALANCE</th>\n",
       "      <th>BALANCE_FREQUENCY</th>\n",
       "      <th>PURCHASES</th>\n",
       "      <th>ONEOFF_PURCHASES</th>\n",
       "      <th>INSTALLMENTS_PURCHASES</th>\n",
       "      <th>CASH_ADVANCE</th>\n",
       "      <th>PURCHASES_FREQUENCY</th>\n",
       "      <th>ONEOFF_PURCHASES_FREQUENCY</th>\n",
       "      <th>PURCHASES_INSTALLMENTS_FREQUENCY</th>\n",
       "      <th>CASH_ADVANCE_FREQUENCY</th>\n",
       "      <th>CASH_ADVANCE_TRX</th>\n",
       "      <th>PURCHASES_TRX</th>\n",
       "      <th>CREDIT_LIMIT</th>\n",
       "      <th>PAYMENTS</th>\n",
       "      <th>MINIMUM_PAYMENTS</th>\n",
       "      <th>PRC_FULL_PAYMENT</th>\n",
       "      <th>TENURE</th>\n",
       "    </tr>\n",
       "  </thead>\n",
       "  <tbody>\n",
       "    <tr>\n",
       "      <th>count</th>\n",
       "      <td>8950.000000</td>\n",
       "      <td>8950.000000</td>\n",
       "      <td>8950.000000</td>\n",
       "      <td>8950.000000</td>\n",
       "      <td>8950.000000</td>\n",
       "      <td>8950.000000</td>\n",
       "      <td>8950.000000</td>\n",
       "      <td>8950.000000</td>\n",
       "      <td>8950.000000</td>\n",
       "      <td>8950.000000</td>\n",
       "      <td>8950.000000</td>\n",
       "      <td>8950.000000</td>\n",
       "      <td>8950.000000</td>\n",
       "      <td>8950.000000</td>\n",
       "      <td>8950.000000</td>\n",
       "      <td>8950.000000</td>\n",
       "      <td>8950.000000</td>\n",
       "    </tr>\n",
       "    <tr>\n",
       "      <th>mean</th>\n",
       "      <td>1564.474828</td>\n",
       "      <td>0.877271</td>\n",
       "      <td>1003.204834</td>\n",
       "      <td>592.437371</td>\n",
       "      <td>411.067645</td>\n",
       "      <td>978.871112</td>\n",
       "      <td>0.490351</td>\n",
       "      <td>0.202458</td>\n",
       "      <td>0.364437</td>\n",
       "      <td>0.135144</td>\n",
       "      <td>3.248827</td>\n",
       "      <td>14.709832</td>\n",
       "      <td>4494.449450</td>\n",
       "      <td>1733.143852</td>\n",
       "      <td>864.206542</td>\n",
       "      <td>0.153715</td>\n",
       "      <td>11.517318</td>\n",
       "    </tr>\n",
       "    <tr>\n",
       "      <th>std</th>\n",
       "      <td>2081.531879</td>\n",
       "      <td>0.236904</td>\n",
       "      <td>2136.634782</td>\n",
       "      <td>1659.887917</td>\n",
       "      <td>904.338115</td>\n",
       "      <td>2097.163877</td>\n",
       "      <td>0.401371</td>\n",
       "      <td>0.298336</td>\n",
       "      <td>0.397448</td>\n",
       "      <td>0.200121</td>\n",
       "      <td>6.824647</td>\n",
       "      <td>24.857649</td>\n",
       "      <td>3638.612411</td>\n",
       "      <td>2895.063757</td>\n",
       "      <td>2330.588021</td>\n",
       "      <td>0.292499</td>\n",
       "      <td>1.338331</td>\n",
       "    </tr>\n",
       "    <tr>\n",
       "      <th>min</th>\n",
       "      <td>0.000000</td>\n",
       "      <td>0.000000</td>\n",
       "      <td>0.000000</td>\n",
       "      <td>0.000000</td>\n",
       "      <td>0.000000</td>\n",
       "      <td>0.000000</td>\n",
       "      <td>0.000000</td>\n",
       "      <td>0.000000</td>\n",
       "      <td>0.000000</td>\n",
       "      <td>0.000000</td>\n",
       "      <td>0.000000</td>\n",
       "      <td>0.000000</td>\n",
       "      <td>50.000000</td>\n",
       "      <td>0.000000</td>\n",
       "      <td>0.019163</td>\n",
       "      <td>0.000000</td>\n",
       "      <td>6.000000</td>\n",
       "    </tr>\n",
       "    <tr>\n",
       "      <th>25%</th>\n",
       "      <td>128.281915</td>\n",
       "      <td>0.888889</td>\n",
       "      <td>39.635000</td>\n",
       "      <td>0.000000</td>\n",
       "      <td>0.000000</td>\n",
       "      <td>0.000000</td>\n",
       "      <td>0.083333</td>\n",
       "      <td>0.000000</td>\n",
       "      <td>0.000000</td>\n",
       "      <td>0.000000</td>\n",
       "      <td>0.000000</td>\n",
       "      <td>1.000000</td>\n",
       "      <td>1600.000000</td>\n",
       "      <td>383.276166</td>\n",
       "      <td>170.857654</td>\n",
       "      <td>0.000000</td>\n",
       "      <td>12.000000</td>\n",
       "    </tr>\n",
       "    <tr>\n",
       "      <th>50%</th>\n",
       "      <td>873.385231</td>\n",
       "      <td>1.000000</td>\n",
       "      <td>361.280000</td>\n",
       "      <td>38.000000</td>\n",
       "      <td>89.000000</td>\n",
       "      <td>0.000000</td>\n",
       "      <td>0.500000</td>\n",
       "      <td>0.083333</td>\n",
       "      <td>0.166667</td>\n",
       "      <td>0.000000</td>\n",
       "      <td>0.000000</td>\n",
       "      <td>7.000000</td>\n",
       "      <td>3000.000000</td>\n",
       "      <td>856.901546</td>\n",
       "      <td>335.628312</td>\n",
       "      <td>0.000000</td>\n",
       "      <td>12.000000</td>\n",
       "    </tr>\n",
       "    <tr>\n",
       "      <th>75%</th>\n",
       "      <td>2054.140036</td>\n",
       "      <td>1.000000</td>\n",
       "      <td>1110.130000</td>\n",
       "      <td>577.405000</td>\n",
       "      <td>468.637500</td>\n",
       "      <td>1113.821139</td>\n",
       "      <td>0.916667</td>\n",
       "      <td>0.300000</td>\n",
       "      <td>0.750000</td>\n",
       "      <td>0.222222</td>\n",
       "      <td>4.000000</td>\n",
       "      <td>17.000000</td>\n",
       "      <td>6500.000000</td>\n",
       "      <td>1901.134317</td>\n",
       "      <td>864.206542</td>\n",
       "      <td>0.142857</td>\n",
       "      <td>12.000000</td>\n",
       "    </tr>\n",
       "    <tr>\n",
       "      <th>max</th>\n",
       "      <td>19043.138560</td>\n",
       "      <td>1.000000</td>\n",
       "      <td>49039.570000</td>\n",
       "      <td>40761.250000</td>\n",
       "      <td>22500.000000</td>\n",
       "      <td>47137.211760</td>\n",
       "      <td>1.000000</td>\n",
       "      <td>1.000000</td>\n",
       "      <td>1.000000</td>\n",
       "      <td>1.500000</td>\n",
       "      <td>123.000000</td>\n",
       "      <td>358.000000</td>\n",
       "      <td>30000.000000</td>\n",
       "      <td>50721.483360</td>\n",
       "      <td>76406.207520</td>\n",
       "      <td>1.000000</td>\n",
       "      <td>12.000000</td>\n",
       "    </tr>\n",
       "  </tbody>\n",
       "</table>\n",
       "</div>"
      ],
      "text/plain": [
       "            BALANCE  BALANCE_FREQUENCY     PURCHASES  ONEOFF_PURCHASES  \\\n",
       "count   8950.000000        8950.000000   8950.000000       8950.000000   \n",
       "mean    1564.474828           0.877271   1003.204834        592.437371   \n",
       "std     2081.531879           0.236904   2136.634782       1659.887917   \n",
       "min        0.000000           0.000000      0.000000          0.000000   \n",
       "25%      128.281915           0.888889     39.635000          0.000000   \n",
       "50%      873.385231           1.000000    361.280000         38.000000   \n",
       "75%     2054.140036           1.000000   1110.130000        577.405000   \n",
       "max    19043.138560           1.000000  49039.570000      40761.250000   \n",
       "\n",
       "       INSTALLMENTS_PURCHASES  CASH_ADVANCE  PURCHASES_FREQUENCY  \\\n",
       "count             8950.000000   8950.000000          8950.000000   \n",
       "mean               411.067645    978.871112             0.490351   \n",
       "std                904.338115   2097.163877             0.401371   \n",
       "min                  0.000000      0.000000             0.000000   \n",
       "25%                  0.000000      0.000000             0.083333   \n",
       "50%                 89.000000      0.000000             0.500000   \n",
       "75%                468.637500   1113.821139             0.916667   \n",
       "max              22500.000000  47137.211760             1.000000   \n",
       "\n",
       "       ONEOFF_PURCHASES_FREQUENCY  PURCHASES_INSTALLMENTS_FREQUENCY  \\\n",
       "count                 8950.000000                       8950.000000   \n",
       "mean                     0.202458                          0.364437   \n",
       "std                      0.298336                          0.397448   \n",
       "min                      0.000000                          0.000000   \n",
       "25%                      0.000000                          0.000000   \n",
       "50%                      0.083333                          0.166667   \n",
       "75%                      0.300000                          0.750000   \n",
       "max                      1.000000                          1.000000   \n",
       "\n",
       "       CASH_ADVANCE_FREQUENCY  CASH_ADVANCE_TRX  PURCHASES_TRX  CREDIT_LIMIT  \\\n",
       "count             8950.000000       8950.000000    8950.000000   8950.000000   \n",
       "mean                 0.135144          3.248827      14.709832   4494.449450   \n",
       "std                  0.200121          6.824647      24.857649   3638.612411   \n",
       "min                  0.000000          0.000000       0.000000     50.000000   \n",
       "25%                  0.000000          0.000000       1.000000   1600.000000   \n",
       "50%                  0.000000          0.000000       7.000000   3000.000000   \n",
       "75%                  0.222222          4.000000      17.000000   6500.000000   \n",
       "max                  1.500000        123.000000     358.000000  30000.000000   \n",
       "\n",
       "           PAYMENTS  MINIMUM_PAYMENTS  PRC_FULL_PAYMENT       TENURE  \n",
       "count   8950.000000       8950.000000       8950.000000  8950.000000  \n",
       "mean    1733.143852        864.206542          0.153715    11.517318  \n",
       "std     2895.063757       2330.588021          0.292499     1.338331  \n",
       "min        0.000000          0.019163          0.000000     6.000000  \n",
       "25%      383.276166        170.857654          0.000000    12.000000  \n",
       "50%      856.901546        335.628312          0.000000    12.000000  \n",
       "75%     1901.134317        864.206542          0.142857    12.000000  \n",
       "max    50721.483360      76406.207520          1.000000    12.000000  "
      ]
     },
     "execution_count": 36,
     "metadata": {},
     "output_type": "execute_result"
    }
   ],
   "source": [
    "data_no_cust_id_imputed.describe()"
   ]
  },
  {
   "cell_type": "markdown",
   "metadata": {},
   "source": [
    "After scaling:"
   ]
  },
  {
   "cell_type": "code",
   "execution_count": 35,
   "metadata": {},
   "outputs": [
    {
     "data": {
      "text/html": [
       "<div>\n",
       "<style scoped>\n",
       "    .dataframe tbody tr th:only-of-type {\n",
       "        vertical-align: middle;\n",
       "    }\n",
       "\n",
       "    .dataframe tbody tr th {\n",
       "        vertical-align: top;\n",
       "    }\n",
       "\n",
       "    .dataframe thead th {\n",
       "        text-align: right;\n",
       "    }\n",
       "</style>\n",
       "<table border=\"1\" class=\"dataframe\">\n",
       "  <thead>\n",
       "    <tr style=\"text-align: right;\">\n",
       "      <th></th>\n",
       "      <th>BALANCE</th>\n",
       "      <th>BALANCE_FREQUENCY</th>\n",
       "      <th>PURCHASES</th>\n",
       "      <th>ONEOFF_PURCHASES</th>\n",
       "      <th>INSTALLMENTS_PURCHASES</th>\n",
       "      <th>CASH_ADVANCE</th>\n",
       "      <th>PURCHASES_FREQUENCY</th>\n",
       "      <th>ONEOFF_PURCHASES_FREQUENCY</th>\n",
       "      <th>PURCHASES_INSTALLMENTS_FREQUENCY</th>\n",
       "      <th>CASH_ADVANCE_FREQUENCY</th>\n",
       "      <th>CASH_ADVANCE_TRX</th>\n",
       "      <th>PURCHASES_TRX</th>\n",
       "      <th>CREDIT_LIMIT</th>\n",
       "      <th>PAYMENTS</th>\n",
       "      <th>MINIMUM_PAYMENTS</th>\n",
       "      <th>PRC_FULL_PAYMENT</th>\n",
       "      <th>TENURE</th>\n",
       "    </tr>\n",
       "  </thead>\n",
       "  <tbody>\n",
       "    <tr>\n",
       "      <th>count</th>\n",
       "      <td>8950.000000</td>\n",
       "      <td>8950.000000</td>\n",
       "      <td>8950.000000</td>\n",
       "      <td>8950.000000</td>\n",
       "      <td>8950.000000</td>\n",
       "      <td>8950.000000</td>\n",
       "      <td>8950.000000</td>\n",
       "      <td>8950.000000</td>\n",
       "      <td>8950.000000</td>\n",
       "      <td>8950.000000</td>\n",
       "      <td>8950.000000</td>\n",
       "      <td>8950.000000</td>\n",
       "      <td>8950.000000</td>\n",
       "      <td>8950.000000</td>\n",
       "      <td>8950.000000</td>\n",
       "      <td>8950.000000</td>\n",
       "      <td>8950.000000</td>\n",
       "    </tr>\n",
       "    <tr>\n",
       "      <th>mean</th>\n",
       "      <td>0.082154</td>\n",
       "      <td>0.877271</td>\n",
       "      <td>0.020457</td>\n",
       "      <td>0.014534</td>\n",
       "      <td>0.018270</td>\n",
       "      <td>0.020766</td>\n",
       "      <td>0.490351</td>\n",
       "      <td>0.202458</td>\n",
       "      <td>0.364437</td>\n",
       "      <td>0.090096</td>\n",
       "      <td>0.026413</td>\n",
       "      <td>0.041089</td>\n",
       "      <td>0.148396</td>\n",
       "      <td>0.034170</td>\n",
       "      <td>0.011310</td>\n",
       "      <td>0.153715</td>\n",
       "      <td>0.919553</td>\n",
       "    </tr>\n",
       "    <tr>\n",
       "      <th>std</th>\n",
       "      <td>0.109306</td>\n",
       "      <td>0.236904</td>\n",
       "      <td>0.043570</td>\n",
       "      <td>0.040722</td>\n",
       "      <td>0.040193</td>\n",
       "      <td>0.044491</td>\n",
       "      <td>0.401371</td>\n",
       "      <td>0.298336</td>\n",
       "      <td>0.397448</td>\n",
       "      <td>0.133414</td>\n",
       "      <td>0.055485</td>\n",
       "      <td>0.069435</td>\n",
       "      <td>0.121490</td>\n",
       "      <td>0.057078</td>\n",
       "      <td>0.030503</td>\n",
       "      <td>0.292499</td>\n",
       "      <td>0.223055</td>\n",
       "    </tr>\n",
       "    <tr>\n",
       "      <th>min</th>\n",
       "      <td>0.000000</td>\n",
       "      <td>0.000000</td>\n",
       "      <td>0.000000</td>\n",
       "      <td>0.000000</td>\n",
       "      <td>0.000000</td>\n",
       "      <td>0.000000</td>\n",
       "      <td>0.000000</td>\n",
       "      <td>0.000000</td>\n",
       "      <td>0.000000</td>\n",
       "      <td>0.000000</td>\n",
       "      <td>0.000000</td>\n",
       "      <td>0.000000</td>\n",
       "      <td>0.000000</td>\n",
       "      <td>0.000000</td>\n",
       "      <td>0.000000</td>\n",
       "      <td>0.000000</td>\n",
       "      <td>0.000000</td>\n",
       "    </tr>\n",
       "    <tr>\n",
       "      <th>25%</th>\n",
       "      <td>0.006736</td>\n",
       "      <td>0.888889</td>\n",
       "      <td>0.000808</td>\n",
       "      <td>0.000000</td>\n",
       "      <td>0.000000</td>\n",
       "      <td>0.000000</td>\n",
       "      <td>0.083333</td>\n",
       "      <td>0.000000</td>\n",
       "      <td>0.000000</td>\n",
       "      <td>0.000000</td>\n",
       "      <td>0.000000</td>\n",
       "      <td>0.002793</td>\n",
       "      <td>0.051753</td>\n",
       "      <td>0.007556</td>\n",
       "      <td>0.002236</td>\n",
       "      <td>0.000000</td>\n",
       "      <td>1.000000</td>\n",
       "    </tr>\n",
       "    <tr>\n",
       "      <th>50%</th>\n",
       "      <td>0.045864</td>\n",
       "      <td>1.000000</td>\n",
       "      <td>0.007367</td>\n",
       "      <td>0.000932</td>\n",
       "      <td>0.003956</td>\n",
       "      <td>0.000000</td>\n",
       "      <td>0.500000</td>\n",
       "      <td>0.083333</td>\n",
       "      <td>0.166667</td>\n",
       "      <td>0.000000</td>\n",
       "      <td>0.000000</td>\n",
       "      <td>0.019553</td>\n",
       "      <td>0.098497</td>\n",
       "      <td>0.016894</td>\n",
       "      <td>0.004392</td>\n",
       "      <td>0.000000</td>\n",
       "      <td>1.000000</td>\n",
       "    </tr>\n",
       "    <tr>\n",
       "      <th>75%</th>\n",
       "      <td>0.107868</td>\n",
       "      <td>1.000000</td>\n",
       "      <td>0.022637</td>\n",
       "      <td>0.014166</td>\n",
       "      <td>0.020828</td>\n",
       "      <td>0.023629</td>\n",
       "      <td>0.916667</td>\n",
       "      <td>0.300000</td>\n",
       "      <td>0.750000</td>\n",
       "      <td>0.148148</td>\n",
       "      <td>0.032520</td>\n",
       "      <td>0.047486</td>\n",
       "      <td>0.215359</td>\n",
       "      <td>0.037482</td>\n",
       "      <td>0.011310</td>\n",
       "      <td>0.142857</td>\n",
       "      <td>1.000000</td>\n",
       "    </tr>\n",
       "    <tr>\n",
       "      <th>max</th>\n",
       "      <td>1.000000</td>\n",
       "      <td>1.000000</td>\n",
       "      <td>1.000000</td>\n",
       "      <td>1.000000</td>\n",
       "      <td>1.000000</td>\n",
       "      <td>1.000000</td>\n",
       "      <td>1.000000</td>\n",
       "      <td>1.000000</td>\n",
       "      <td>1.000000</td>\n",
       "      <td>1.000000</td>\n",
       "      <td>1.000000</td>\n",
       "      <td>1.000000</td>\n",
       "      <td>1.000000</td>\n",
       "      <td>1.000000</td>\n",
       "      <td>1.000000</td>\n",
       "      <td>1.000000</td>\n",
       "      <td>1.000000</td>\n",
       "    </tr>\n",
       "  </tbody>\n",
       "</table>\n",
       "</div>"
      ],
      "text/plain": [
       "           BALANCE  BALANCE_FREQUENCY    PURCHASES  ONEOFF_PURCHASES  \\\n",
       "count  8950.000000        8950.000000  8950.000000       8950.000000   \n",
       "mean      0.082154           0.877271     0.020457          0.014534   \n",
       "std       0.109306           0.236904     0.043570          0.040722   \n",
       "min       0.000000           0.000000     0.000000          0.000000   \n",
       "25%       0.006736           0.888889     0.000808          0.000000   \n",
       "50%       0.045864           1.000000     0.007367          0.000932   \n",
       "75%       0.107868           1.000000     0.022637          0.014166   \n",
       "max       1.000000           1.000000     1.000000          1.000000   \n",
       "\n",
       "       INSTALLMENTS_PURCHASES  CASH_ADVANCE  PURCHASES_FREQUENCY  \\\n",
       "count             8950.000000   8950.000000          8950.000000   \n",
       "mean                 0.018270      0.020766             0.490351   \n",
       "std                  0.040193      0.044491             0.401371   \n",
       "min                  0.000000      0.000000             0.000000   \n",
       "25%                  0.000000      0.000000             0.083333   \n",
       "50%                  0.003956      0.000000             0.500000   \n",
       "75%                  0.020828      0.023629             0.916667   \n",
       "max                  1.000000      1.000000             1.000000   \n",
       "\n",
       "       ONEOFF_PURCHASES_FREQUENCY  PURCHASES_INSTALLMENTS_FREQUENCY  \\\n",
       "count                 8950.000000                       8950.000000   \n",
       "mean                     0.202458                          0.364437   \n",
       "std                      0.298336                          0.397448   \n",
       "min                      0.000000                          0.000000   \n",
       "25%                      0.000000                          0.000000   \n",
       "50%                      0.083333                          0.166667   \n",
       "75%                      0.300000                          0.750000   \n",
       "max                      1.000000                          1.000000   \n",
       "\n",
       "       CASH_ADVANCE_FREQUENCY  CASH_ADVANCE_TRX  PURCHASES_TRX  CREDIT_LIMIT  \\\n",
       "count             8950.000000       8950.000000    8950.000000   8950.000000   \n",
       "mean                 0.090096          0.026413       0.041089      0.148396   \n",
       "std                  0.133414          0.055485       0.069435      0.121490   \n",
       "min                  0.000000          0.000000       0.000000      0.000000   \n",
       "25%                  0.000000          0.000000       0.002793      0.051753   \n",
       "50%                  0.000000          0.000000       0.019553      0.098497   \n",
       "75%                  0.148148          0.032520       0.047486      0.215359   \n",
       "max                  1.000000          1.000000       1.000000      1.000000   \n",
       "\n",
       "          PAYMENTS  MINIMUM_PAYMENTS  PRC_FULL_PAYMENT       TENURE  \n",
       "count  8950.000000       8950.000000       8950.000000  8950.000000  \n",
       "mean      0.034170          0.011310          0.153715     0.919553  \n",
       "std       0.057078          0.030503          0.292499     0.223055  \n",
       "min       0.000000          0.000000          0.000000     0.000000  \n",
       "25%       0.007556          0.002236          0.000000     1.000000  \n",
       "50%       0.016894          0.004392          0.000000     1.000000  \n",
       "75%       0.037482          0.011310          0.142857     1.000000  \n",
       "max       1.000000          1.000000          1.000000     1.000000  "
      ]
     },
     "execution_count": 35,
     "metadata": {},
     "output_type": "execute_result"
    }
   ],
   "source": [
    "scaled_data.describe()"
   ]
  },
  {
   "cell_type": "markdown",
   "metadata": {},
   "source": [
    "# Clustering\n",
    "***\n",
    "So we've finished performing data transformations. Now we can start the unsupervised learning part. For KMeans, we need to decide on the hyperparameter, the number of clusters. In order to do this, we can look at the k-means inertia for many cluster sizes. Inertia is a measure of _within-cluster variation_, or homogeneity of a given cluster. We generally want a smaller inertia as that will have a lower amount of within cluster variation, and result in more homogeneity. \n",
    "\n",
    "Imports for Machine Learning"
   ]
  },
  {
   "cell_type": "code",
   "execution_count": 3,
   "metadata": {},
   "outputs": [],
   "source": [
    "from sklearn.cluster import KMeans\n",
    "from sklearn import preprocessing"
   ]
  },
  {
   "cell_type": "markdown",
   "metadata": {},
   "source": [
    "`n_init` is the number of initializations. Because the final clusterings depend on their initial locations, we can increase the number of initializations we try to get a better value. The output will be the best value we achieved with respect to inertia\n",
    "\n",
    "`max_iter` is the number of max iterations the algorithm will run to reassign the cluster labels on observations in order to minimize inertia.\n",
    "\n",
    "`tol` is the tolerance for settling on a stable clustering configuration to minimize the inertia\n",
    "\n",
    "`random_state` is the seed we can set to make our experiments reproducible\n",
    "\n",
    "`n_jobs` is a parameter we can pass to tell our computer to use extra threads to perform this computation in parallel"
   ]
  },
  {
   "cell_type": "code",
   "execution_count": 38,
   "metadata": {},
   "outputs": [],
   "source": [
    "n_init = 10\n",
    "max_iter = 300\n",
    "tol = 0.0001\n",
    "random_state = 42\n",
    "n_jobs = 8"
   ]
  },
  {
   "cell_type": "code",
   "execution_count": 40,
   "metadata": {},
   "outputs": [],
   "source": [
    "# maximum number of clusters to test for hyperparameter\n",
    "max_num_clusters = 21\n",
    "# initialize empty dataframe to hold our inertia values\n",
    "kMeans_inertia = pd.DataFrame( data=[], \\\n",
    "    index=range(2,max_num_clusters),columns=['inertia'])\n",
    "\n",
    "# for each value of number of clusters\n",
    "for n_clusters in range(2,max_num_clusters):\n",
    "    # create a kMeans obj\n",
    "    kmeans = KMeans( n_clusters=n_clusters, n_init=n_init,\\\n",
    "                    max_iter=max_iter, tol=tol, \\\n",
    "                    random_state=random_state, n_jobs=n_jobs )\n",
    "    # fit it\n",
    "    kmeans.fit( scaled_data )\n",
    "    # extract the inertia\n",
    "    kMeans_inertia.loc[n_clusters] = kmeans.inertia_"
   ]
  },
  {
   "cell_type": "code",
   "execution_count": 43,
   "metadata": {},
   "outputs": [
    {
     "data": {
      "image/png": "[encoded data removed]",
      "text/plain": [
       "<Figure size 432x288 with 1 Axes>"
      ]
     },
     "metadata": {
      "needs_background": "light"
     },
     "output_type": "display_data"
    }
   ],
   "source": [
    "kMeans_inertia.plot();\n",
    "plt.grid()"
   ]
  },
  {
   "cell_type": "markdown",
   "metadata": {},
   "source": [
    "Looking at this graph, I say we should take 10 clusters.\n",
    "\n",
    "Now, we need to split our set of data into a training and testing set, so that we can see if our algorithm resolves nice clusters on unseen data"
   ]
  },
  {
   "cell_type": "code",
   "execution_count": 47,
   "metadata": {},
   "outputs": [],
   "source": [
    "from sklearn.model_selection import train_test_split\n",
    "\n",
    "X_train, X_test = train_test_split( scaled_data,\\\n",
    "test_size=0.2, random_state=random_state )"
   ]
  },
  {
   "cell_type": "code",
   "execution_count": 48,
   "metadata": {},
   "outputs": [],
   "source": [
    "optimal_n_clusters = 10\n",
    "kmeans = KMeans(n_clusters=optimal_n_clusters, random_state=random_state)\n",
    "kmeans.fit(X_train)\n",
    "\n",
    "preds = kmeans.predict(X_test)"
   ]
  },
  {
   "cell_type": "markdown",
   "metadata": {},
   "source": [
    "Now we can add another column to the test set, indicating the cluster it was classified in."
   ]
  },
  {
   "cell_type": "code",
   "execution_count": 49,
   "metadata": {},
   "outputs": [],
   "source": [
    "test_data_with_preds = X_test.copy()\n",
    "test_data_with_preds['PREDICTED_CLUSTER'] = preds"
   ]
  },
  {
   "cell_type": "markdown",
   "metadata": {},
   "source": [
    "Now we can look at the average values of the features for each of the clusters:"
   ]
  },
  {
   "cell_type": "code",
   "execution_count": 53,
   "metadata": {},
   "outputs": [
    {
     "data": {
      "text/html": [
       "<div>\n",
       "<style scoped>\n",
       "    .dataframe tbody tr th:only-of-type {\n",
       "        vertical-align: middle;\n",
       "    }\n",
       "\n",
       "    .dataframe tbody tr th {\n",
       "        vertical-align: top;\n",
       "    }\n",
       "\n",
       "    .dataframe thead th {\n",
       "        text-align: right;\n",
       "    }\n",
       "</style>\n",
       "<table border=\"1\" class=\"dataframe\">\n",
       "  <thead>\n",
       "    <tr style=\"text-align: right;\">\n",
       "      <th></th>\n",
       "      <th>BALANCE</th>\n",
       "      <th>PURCHASES</th>\n",
       "      <th>PURCHASES_FREQUENCY</th>\n",
       "      <th>CREDIT_LIMIT</th>\n",
       "      <th>ONEOFF_PURCHASES_FREQUENCY</th>\n",
       "      <th>MINIMUM_PAYMENTS</th>\n",
       "      <th>PRC_FULL_PAYMENT</th>\n",
       "      <th>PAYMENTS</th>\n",
       "    </tr>\n",
       "    <tr>\n",
       "      <th>PREDICTED_CLUSTER</th>\n",
       "      <th></th>\n",
       "      <th></th>\n",
       "      <th></th>\n",
       "      <th></th>\n",
       "      <th></th>\n",
       "      <th></th>\n",
       "      <th></th>\n",
       "      <th></th>\n",
       "    </tr>\n",
       "  </thead>\n",
       "  <tbody>\n",
       "    <tr>\n",
       "      <th>0</th>\n",
       "      <td>0.074737</td>\n",
       "      <td>0.004367</td>\n",
       "      <td>0.190566</td>\n",
       "      <td>0.111037</td>\n",
       "      <td>0.089195</td>\n",
       "      <td>0.006493</td>\n",
       "      <td>0.034091</td>\n",
       "      <td>0.012660</td>\n",
       "    </tr>\n",
       "    <tr>\n",
       "      <th>1</th>\n",
       "      <td>0.082994</td>\n",
       "      <td>0.016213</td>\n",
       "      <td>0.534096</td>\n",
       "      <td>0.135784</td>\n",
       "      <td>0.122946</td>\n",
       "      <td>0.011746</td>\n",
       "      <td>0.054883</td>\n",
       "      <td>0.027947</td>\n",
       "    </tr>\n",
       "    <tr>\n",
       "      <th>2</th>\n",
       "      <td>0.163963</td>\n",
       "      <td>0.082914</td>\n",
       "      <td>0.971717</td>\n",
       "      <td>0.246294</td>\n",
       "      <td>0.732869</td>\n",
       "      <td>0.016050</td>\n",
       "      <td>0.068830</td>\n",
       "      <td>0.081197</td>\n",
       "    </tr>\n",
       "    <tr>\n",
       "      <th>3</th>\n",
       "      <td>0.005915</td>\n",
       "      <td>0.020994</td>\n",
       "      <td>0.932408</td>\n",
       "      <td>0.123414</td>\n",
       "      <td>0.051618</td>\n",
       "      <td>0.002499</td>\n",
       "      <td>0.783875</td>\n",
       "      <td>0.021905</td>\n",
       "    </tr>\n",
       "    <tr>\n",
       "      <th>4</th>\n",
       "      <td>0.011436</td>\n",
       "      <td>0.008042</td>\n",
       "      <td>0.123162</td>\n",
       "      <td>0.126549</td>\n",
       "      <td>0.061357</td>\n",
       "      <td>0.004650</td>\n",
       "      <td>0.068046</td>\n",
       "      <td>0.033999</td>\n",
       "    </tr>\n",
       "    <tr>\n",
       "      <th>5</th>\n",
       "      <td>0.075569</td>\n",
       "      <td>0.023938</td>\n",
       "      <td>0.952749</td>\n",
       "      <td>0.115918</td>\n",
       "      <td>0.082897</td>\n",
       "      <td>0.018398</td>\n",
       "      <td>0.054784</td>\n",
       "      <td>0.032638</td>\n",
       "    </tr>\n",
       "    <tr>\n",
       "      <th>6</th>\n",
       "      <td>0.113511</td>\n",
       "      <td>0.003495</td>\n",
       "      <td>0.074116</td>\n",
       "      <td>0.132899</td>\n",
       "      <td>0.057427</td>\n",
       "      <td>0.013300</td>\n",
       "      <td>0.019284</td>\n",
       "      <td>0.026872</td>\n",
       "    </tr>\n",
       "    <tr>\n",
       "      <th>7</th>\n",
       "      <td>0.021311</td>\n",
       "      <td>0.082342</td>\n",
       "      <td>0.956154</td>\n",
       "      <td>0.248045</td>\n",
       "      <td>0.890510</td>\n",
       "      <td>0.002538</td>\n",
       "      <td>0.883172</td>\n",
       "      <td>0.079074</td>\n",
       "    </tr>\n",
       "    <tr>\n",
       "      <th>8</th>\n",
       "      <td>0.086876</td>\n",
       "      <td>0.030364</td>\n",
       "      <td>0.737267</td>\n",
       "      <td>0.157272</td>\n",
       "      <td>0.707120</td>\n",
       "      <td>0.009400</td>\n",
       "      <td>0.058303</td>\n",
       "      <td>0.031746</td>\n",
       "    </tr>\n",
       "    <tr>\n",
       "      <th>9</th>\n",
       "      <td>0.003868</td>\n",
       "      <td>0.013800</td>\n",
       "      <td>0.358202</td>\n",
       "      <td>0.136749</td>\n",
       "      <td>0.130090</td>\n",
       "      <td>0.001864</td>\n",
       "      <td>0.797773</td>\n",
       "      <td>0.031339</td>\n",
       "    </tr>\n",
       "  </tbody>\n",
       "</table>\n",
       "</div>"
      ],
      "text/plain": [
       "                    BALANCE  PURCHASES  PURCHASES_FREQUENCY  CREDIT_LIMIT  \\\n",
       "PREDICTED_CLUSTER                                                           \n",
       "0                  0.074737   0.004367             0.190566      0.111037   \n",
       "1                  0.082994   0.016213             0.534096      0.135784   \n",
       "2                  0.163963   0.082914             0.971717      0.246294   \n",
       "3                  0.005915   0.020994             0.932408      0.123414   \n",
       "4                  0.011436   0.008042             0.123162      0.126549   \n",
       "5                  0.075569   0.023938             0.952749      0.115918   \n",
       "6                  0.113511   0.003495             0.074116      0.132899   \n",
       "7                  0.021311   0.082342             0.956154      0.248045   \n",
       "8                  0.086876   0.030364             0.737267      0.157272   \n",
       "9                  0.003868   0.013800             0.358202      0.136749   \n",
       "\n",
       "                   ONEOFF_PURCHASES_FREQUENCY  MINIMUM_PAYMENTS  \\\n",
       "PREDICTED_CLUSTER                                                 \n",
       "0                                    0.089195          0.006493   \n",
       "1                                    0.122946          0.011746   \n",
       "2                                    0.732869          0.016050   \n",
       "3                                    0.051618          0.002499   \n",
       "4                                    0.061357          0.004650   \n",
       "5                                    0.082897          0.018398   \n",
       "6                                    0.057427          0.013300   \n",
       "7                                    0.890510          0.002538   \n",
       "8                                    0.707120          0.009400   \n",
       "9                                    0.130090          0.001864   \n",
       "\n",
       "                   PRC_FULL_PAYMENT  PAYMENTS  \n",
       "PREDICTED_CLUSTER                              \n",
       "0                          0.034091  0.012660  \n",
       "1                          0.054883  0.027947  \n",
       "2                          0.068830  0.081197  \n",
       "3                          0.783875  0.021905  \n",
       "4                          0.068046  0.033999  \n",
       "5                          0.054784  0.032638  \n",
       "6                          0.019284  0.026872  \n",
       "7                          0.883172  0.079074  \n",
       "8                          0.058303  0.031746  \n",
       "9                          0.797773  0.031339  "
      ]
     },
     "execution_count": 53,
     "metadata": {},
     "output_type": "execute_result"
    }
   ],
   "source": [
    "cols_to_summarize = ['PREDICTED_CLUSTER','BALANCE','PURCHASES','PURCHASES_FREQUENCY','CREDIT_LIMIT','ONEOFF_PURCHASES_FREQUENCY','MINIMUM_PAYMENTS','PRC_FULL_PAYMENT','PAYMENTS']\n",
    "\n",
    "summary = test_data_with_preds[cols_to_summarize].groupby(\"PREDICTED_CLUSTER\").mean()\n",
    "summary"
   ]
  },
  {
   "cell_type": "markdown",
   "metadata": {},
   "source": [
    "After looking at the `PURCHASES_FREQUENCY` column, we see that our model did find some clusters who, on average, have close to the maximum value of `PURCHASES_FREQUENCY` (clusters 2,3,5,7)."
   ]
  },
  {
   "cell_type": "markdown",
   "metadata": {},
   "source": [
    "# Dimensionality Reduction to plot the Clusters\n",
    "***\n",
    "Now that we've done some clustering. Let's do a quick dimensionality reduction technique to make a nice-looking plot to see if we can visualize these clusters in two dimensions."
   ]
  },
  {
   "cell_type": "code",
   "execution_count": 57,
   "metadata": {},
   "outputs": [],
   "source": [
    "from sklearn.decomposition import PCA\n",
    "pca = PCA(n_components=len(scaled_data.columns),random_state=random_state)\n",
    "\n",
    "X_train_PCA = pca.fit_transform(X_train)\n",
    "X_test_PCA = pca.transform(X_test)"
   ]
  },
  {
   "cell_type": "markdown",
   "metadata": {},
   "source": [
    "Now we can plot the first two principal components, along with cluster label:"
   ]
  },
  {
   "cell_type": "code",
   "execution_count": 60,
   "metadata": {},
   "outputs": [],
   "source": [
    "X_test_PCA = pd.DataFrame(X_test_PCA[:,0:2],columns=['First Component','Second Component'])\n",
    "X_test_PCA['PREDICTED_CLUSTER'] = preds"
   ]
  },
  {
   "cell_type": "code",
   "execution_count": 61,
   "metadata": {},
   "outputs": [
    {
     "data": {
      "image/png": "[encoded data removed]",
      "text/plain": [
       "<Figure size 474.75x360 with 1 Axes>"
      ]
     },
     "metadata": {
      "needs_background": "light"
     },
     "output_type": "display_data"
    }
   ],
   "source": [
    "sns.lmplot(x='First Component',y='Second Component',hue='PREDICTED_CLUSTER',data=X_test_PCA,fit_reg=False);"
   ]
  },
  {
   "cell_type": "markdown",
   "metadata": {},
   "source": [
    "Well, I wouldn't say this is very good, as almost every single cluster has at least some overlap, and several of them entirely overlap. This could be due to the fact of how many clusters we used, or it could be do to the fact that we are not reconstructing as much of the explained variance as is necessary to clearly separate these clusters in simply the first two principal components.\n",
    "\n",
    "We can investigate the explained variance in the first few principal components to take a look at this question.\n",
    "\n",
    "First of all, I would expect the total explained variance over all components to be 1, since I've used as many principal components as there are columns in the data set. This is just a sanity check:"
   ]
  },
  {
   "cell_type": "code",
   "execution_count": 62,
   "metadata": {},
   "outputs": [
    {
     "data": {
      "text/plain": [
       "0.9999999999999997"
      ]
     },
     "execution_count": 62,
     "metadata": {},
     "output_type": "execute_result"
    }
   ],
   "source": [
    "sum(pca.explained_variance_ratio_)"
   ]
  },
  {
   "cell_type": "markdown",
   "metadata": {},
   "source": [
    "Now we can plot the explained variance versus the number of principal components used:"
   ]
  },
  {
   "cell_type": "code",
   "execution_count": 78,
   "metadata": {},
   "outputs": [
    {
     "data": {
      "image/png": "[encoded data removed]",
      "text/plain": [
       "<Figure size 432x288 with 1 Axes>"
      ]
     },
     "metadata": {
      "needs_background": "light"
     },
     "output_type": "display_data"
    }
   ],
   "source": [
    "explainedVariance = pd.DataFrame(data=pca.explained_variance_ratio_,columns=['Explained Variance'],\\\n",
    "                                index=range(1,1+len(scaled_data.columns)))\n",
    "explainedVariance.cumsum().plot();\n",
    "plt.xlabel(\"Number of principal components\");\n",
    "plt.ylabel(\"Explained Variance Ratio\");\n",
    "plt.axvline(2,label='2 Principal Components',color='grey',alpha=0.7,linestyle='dashed');"
   ]
  },
  {
   "cell_type": "markdown",
   "metadata": {},
   "source": [
    "As we can see, using only the first two principal components only yields something like 60% of the variance:"
   ]
  },
  {
   "cell_type": "code",
   "execution_count": 73,
   "metadata": {},
   "outputs": [
    {
     "data": {
      "text/plain": [
       "Explained Variance    0.636061\n",
       "dtype: float64"
      ]
     },
     "execution_count": 73,
     "metadata": {},
     "output_type": "execute_result"
    }
   ],
   "source": [
    "explainedVariance[:2].sum()"
   ]
  },
  {
   "cell_type": "markdown",
   "metadata": {},
   "source": [
    "# Putting it all in a Pipeline\n",
    "***\n",
    "We would prefer to put all of our transformations and analysis inside a robust pipeline so that it is organized, reproducible, and we can make changes easily, as well as test with many different configurations of the various transformers.\n",
    "\n",
    "First, I am going to write a custom transformer to drop the `CUST_ID` as an example of how to create such a simple transformer."
   ]
  },
  {
   "cell_type": "code",
   "execution_count": 119,
   "metadata": {
    "code_folding": []
   },
   "outputs": [],
   "source": [
    "from sklearn.base import BaseEstimator, TransformerMixin\n",
    "# inheriting from TransformerMixing gives me fit_transform for free\n",
    "# inheriting from BaseEstimator gives me get_params and set_params for free\n",
    "# this will allow me to do automatic hyperparameter tuning (changing cols to drop)\n",
    "class DropCols(BaseEstimator, TransformerMixin):\n",
    "    def __init__(self, cols_to_drop, verbose=False ):\n",
    "        print(cols_to_drop)\n",
    "        assert isinstance(cols_to_drop,list),\"Cols to drop must be a list\"\n",
    "        self.cols_to_drop_ = cols_to_drop\n",
    "        self.verbose = verbose\n",
    "    def fit(self, X, y=None):\n",
    "        self.all_cols = X.columns\n",
    "        self.new_cols_ = [col for col in self.all_cols if col not in self.cols_to_drop_ ]\n",
    "        return self\n",
    "    def transform(self, X):\n",
    "        newX = X.loc[:, self.new_cols_].copy()\n",
    "        if self.verbose:\n",
    "            print(\"New columns:\",newX.columns)\n",
    "        return newX"
   ]
  },
  {
   "cell_type": "markdown",
   "metadata": {},
   "source": [
    "Now we can construct our pipeline:"
   ]
  },
  {
   "cell_type": "code",
   "execution_count": 120,
   "metadata": {},
   "outputs": [
    {
     "name": "stdout",
     "output_type": "stream",
     "text": [
      "['CUST_ID']\n"
     ]
    }
   ],
   "source": [
    "from sklearn.pipeline import Pipeline\n",
    "\n",
    "clustering_pipeline = Pipeline([\n",
    "    ('drop_cust_id',DropCols(['CUST_ID'])),\n",
    "    ('imputer',SimpleImputer(strategy=\"mean\")),\n",
    "    ('scaler',MinMaxScaler()),\n",
    "    ('clustering',KMeans(n_clusters=optimal_n_clusters, n_init=n_init,\\\n",
    "                    max_iter=max_iter, tol=tol, \\\n",
    "                    random_state=random_state, n_jobs=n_jobs))\n",
    "])"
   ]
  },
  {
   "cell_type": "markdown",
   "metadata": {},
   "source": [
    "And we can use it like this:"
   ]
  },
  {
   "cell_type": "code",
   "execution_count": 121,
   "metadata": {},
   "outputs": [
    {
     "data": {
      "image/png": "[encoded data removed]",
      "text/plain": [
       "<Figure size 474.75x360 with 1 Axes>"
      ]
     },
     "metadata": {
      "needs_background": "light"
     },
     "output_type": "display_data"
    }
   ],
   "source": [
    "X_train_pipeline = clustering_pipeline.fit_transform(X_train)\n",
    "pipeline_preds = clustering_pipeline.predict(X_test)\n",
    "\n",
    "X_test_PCA['PREDICTED_CLUSTER'] = pipeline_preds\n",
    "sns.lmplot(x='First Component',y='Second Component',hue='PREDICTED_CLUSTER',data=X_test_PCA,fit_reg=False);"
   ]
  }
 ],
 "metadata": {
  "kernelspec": {
   "display_name": "Python 3",
   "language": "python",
   "name": "python3"
  },
  "language_info": {
   "codemirror_mode": {
    "name": "ipython",
    "version": 3
   },
   "file_extension": ".py",
   "mimetype": "text/x-python",
   "name": "python",
   "nbconvert_exporter": "python",
   "pygments_lexer": "ipython3",
   "version": "3.5.6"
  },
  "toc": {
   "base_numbering": 1,
   "nav_menu": {},
   "number_sections": true,
   "sideBar": true,
   "skip_h1_title": false,
   "title_cell": "Table of Contents",
   "title_sidebar": "Contents",
   "toc_cell": false,
   "toc_position": {},
   "toc_section_display": true,
   "toc_window_display": false
  },
  "varInspector": {
   "cols": {
    "lenName": 16,
    "lenType": 16,
    "lenVar": 40
   },
   "kernels_config": {
    "python": {
     "delete_cmd_postfix": "",
     "delete_cmd_prefix": "del ",
     "library": "var_list.py",
     "varRefreshCmd": "print(var_dic_list())"
    },
    "r": {
     "delete_cmd_postfix": ") ",
     "delete_cmd_prefix": "rm(",
     "library": "var_list.r",
     "varRefreshCmd": "cat(var_dic_list()) "
    }
   },
   "types_to_exclude": [
    "module",
    "function",
    "builtin_function_or_method",
    "instance",
    "_Feature"
   ],
   "window_display": false
  }
 },
 "nbformat": 4,
 "nbformat_minor": 2
}
